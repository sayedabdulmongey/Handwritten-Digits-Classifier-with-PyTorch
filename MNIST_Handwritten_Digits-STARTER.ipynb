{
 "cells": [
  {
   "cell_type": "markdown",
   "metadata": {},
   "source": [
    "# Introduction\n",
    "\n",
    "In this project, you will build a neural network of your own design to evaluate the MNIST dataset.\n",
    "\n",
    "Some of the benchmark results on MNIST include can be found [on Yann LeCun's page](https://webcache.googleusercontent.com/search?q=cache:stAVPik6onEJ:yann.lecun.com/exdb/mnist) and include:\n",
    "\n",
    "88% [Lecun et al., 1998](https://hal.science/hal-03926082/document)\n",
    "\n",
    "95.3% [Lecun et al., 1998](https://hal.science/hal-03926082v1/document)\n",
    "\n",
    "99.65% [Ciresan et al., 2011](http://people.idsia.ch/~juergen/ijcai2011.pdf)\n",
    "\n",
    "\n",
    "MNIST is a great dataset for sanity checking your models, since the accuracy levels achieved by large convolutional neural networks and small linear models are both quite high. This makes it important to be familiar with the data.\n",
    "\n",
    "## Installation"
   ]
  },
  {
   "cell_type": "code",
   "execution_count": 1,
   "metadata": {},
   "outputs": [],
   "source": [
    "# Update the PATH to include the user installation directory. \n",
    "import os\n",
    "os.environ['PATH'] = f\"{os.environ['PATH']}:/root/.local/bin\"\n",
    "\n",
    "# Restart the Kernel before you move on to the next step."
   ]
  },
  {
   "cell_type": "markdown",
   "metadata": {},
   "source": [
    "#### Important: Restart the Kernel before you move on to the next step."
   ]
  },
  {
   "cell_type": "code",
   "execution_count": 2,
   "metadata": {
    "scrolled": true
   },
   "outputs": [
    {
     "name": "stdout",
     "output_type": "stream",
     "text": [
      "zsh:1: command not found: python\n"
     ]
    }
   ],
   "source": [
    "# Install requirements\n",
    "!python -m pip install -r requirements.txt"
   ]
  },
  {
   "cell_type": "markdown",
   "metadata": {},
   "source": [
    "## Imports"
   ]
  },
  {
   "cell_type": "code",
   "execution_count": 3,
   "metadata": {},
   "outputs": [],
   "source": [
    "## This cell contains the essential imports you will need – DO NOT CHANGE THE CONTENTS! ##\n",
    "import torch\n",
    "import torch.nn as nn\n",
    "import torch.nn.functional as F\n",
    "import torch.optim as optim\n",
    "import torchvision\n",
    "import torchvision.transforms as transforms\n",
    "import matplotlib.pyplot as plt\n",
    "import numpy as np"
   ]
  },
  {
   "cell_type": "markdown",
   "metadata": {},
   "source": [
    "## Load the Dataset\n",
    "\n",
    "Specify your transforms as a list if you intend to .\n",
    "The transforms module is already loaded as `transforms`.\n",
    "\n",
    "MNIST is fortunately included in the torchvision module.\n",
    "Then, you can create your dataset using the `MNIST` object from `torchvision.datasets` ([the documentation is available here](https://pytorch.org/vision/stable/datasets.html#mnist)).\n",
    "Make sure to specify `download=True`! \n",
    "\n",
    "Once your dataset is created, you'll also need to define a `DataLoader` from the `torch.utils.data` module for both the train and the test set."
   ]
  },
  {
   "cell_type": "code",
   "execution_count": 4,
   "metadata": {},
   "outputs": [],
   "source": [
    "# Define transforms\n",
    "transform = transforms.Compose([\n",
    "    transforms.ToTensor(),\n",
    "    transforms.Normalize(mean=(0.5),std=(0.5))\n",
    "])\n",
    "\n",
    "# Create training and validation set and define training and validation dataloader\n",
    "train_data = torchvision.datasets.MNIST(root='data',download=True,train=True,transform=transform)\n",
    "\n",
    "train_size = int(0.8 * len(train_data))\n",
    "val_size = len(train_data) - train_size\n",
    "\n",
    "train_dataset, val_dataset = torch.utils.data.random_split(train_data, [train_size, val_size])\n",
    "train_loader = torch.utils.data.DataLoader(train_dataset,batch_size=32,shuffle=True)\n",
    "\n",
    "val_loader = torch.utils.data.DataLoader(val_dataset, batch_size=32, shuffle=False)\n",
    "\n",
    "# Create test set and define test dataloader\n",
    "test_dataset = torchvision.datasets.MNIST(root='data',download=True,train=False,transform=transform)\n",
    "test_loader = torch.utils.data.DataLoader(test_dataset,batch_size=32)"
   ]
  },
  {
   "cell_type": "markdown",
   "metadata": {},
   "source": [
    "## Justify your preprocessing\n",
    "\n",
    "In your own words, why did you choose the transforms you chose? If you didn't use any preprocessing steps, why not?"
   ]
  },
  {
   "cell_type": "markdown",
   "metadata": {},
   "source": [
    "## `ToTensor`\n",
    "\n",
    "1. **Conversion to PyTorch Tensor**:\n",
    "   - The `ToTensor()` transform converts images from PIL or NumPy format to PyTorch tensors. This conversion is necessary because PyTorch models operate on tensors. Tensors are multi-dimensional arrays that allow for efficient computation on GPUs, which is essential for training deep learning models.\n",
    "\n",
    "2. **Scaling Pixel Values**:\n",
    "   - This transform scales the pixel values from the range [0, 255] to [0, 1]. Neural networks perform better with input values in a consistent range, and scaling helps improve numerical stability and convergence during training.\n",
    "\n",
    "## `Normalize`\n",
    "\n",
    "1. **Standardization**:\n",
    "   - The `Normalize((0.5), (0.5))` transform standardizes the pixel values by adjusting the mean and standard deviation. Normalizing with a mean and standard deviation of 0.5 scales the input images to the range [-1, 1]. This standardization helps the model to learn more efficiently, as the data is centered around zero and the values are in a consistent range.\n",
    "\n",
    "## Benefits of Normalizing with Mean and Std = 0.5\n",
    "\n",
    " **Centered Data**:\n",
    "   - By normalizing with a mean of 0.5, the data is centered around zero, which is optimal for many neural network architectures. This ensures that the activations are not too high or too low, which can help in faster and more stable convergence during training.\n",
    "\n",
    "\n"
   ]
  },
  {
   "cell_type": "markdown",
   "metadata": {},
   "source": [
    "## Explore the Dataset\n",
    "Using matplotlib, numpy, and torch, explore the dimensions of your data.\n",
    "\n",
    "You can view images using the `show5` function defined below – it takes a data loader as an argument.\n",
    "Remember that normalized images will look really weird to you! You may want to try changing your transforms to view images.\n",
    "Typically using no transforms other than `toTensor()` works well for viewing – but not as well for training your network.\n",
    "If `show5` doesn't work, go back and check your code for creating your data loaders and your training/test sets."
   ]
  },
  {
   "cell_type": "code",
   "execution_count": 5,
   "metadata": {},
   "outputs": [],
   "source": [
    "## This cell contains a function for showing 5 images from a dataloader – DO NOT CHANGE THE CONTENTS! ##\n",
    "def show5(img_loader):\n",
    "    dataiter = iter(img_loader)\n",
    "    \n",
    "    batch = next(dataiter)\n",
    "    labels = batch[1][0:5]\n",
    "    images = batch[0][0:5]\n",
    "    for i in range(5):\n",
    "        print(int(labels[i].detach()))\n",
    "    \n",
    "        image = images[i].numpy()\n",
    "        plt.imshow(image.T.squeeze().T)\n",
    "        plt.show()"
   ]
  },
  {
   "cell_type": "code",
   "execution_count": 6,
   "metadata": {},
   "outputs": [
    {
     "name": "stdout",
     "output_type": "stream",
     "text": [
      "0\n"
     ]
    },
    {
     "data": {
      "image/png": "[encoded data removed]",
      "text/plain": [
       "<Figure size 640x480 with 1 Axes>"
      ]
     },
     "metadata": {},
     "output_type": "display_data"
    },
    {
     "name": "stdout",
     "output_type": "stream",
     "text": [
      "4\n"
     ]
    },
    {
     "data": {
      "image/png": "[encoded data removed]",
      "text/plain": [
       "<Figure size 640x480 with 1 Axes>"
      ]
     },
     "metadata": {},
     "output_type": "display_data"
    },
    {
     "name": "stdout",
     "output_type": "stream",
     "text": [
      "0\n"
     ]
    },
    {
     "data": {
      "image/png": "[encoded data removed]",
      "text/plain": [
       "<Figure size 640x480 with 1 Axes>"
      ]
     },
     "metadata": {},
     "output_type": "display_data"
    },
    {
     "name": "stdout",
     "output_type": "stream",
     "text": [
      "1\n"
     ]
    },
    {
     "data": {
      "image/png": "[encoded data removed]",
      "text/plain": [
       "<Figure size 640x480 with 1 Axes>"
      ]
     },
     "metadata": {},
     "output_type": "display_data"
    },
    {
     "name": "stdout",
     "output_type": "stream",
     "text": [
      "3\n"
     ]
    },
    {
     "data": {
      "image/png": "[encoded data removed]",
      "text/plain": [
       "<Figure size 640x480 with 1 Axes>"
      ]
     },
     "metadata": {},
     "output_type": "display_data"
    }
   ],
   "source": [
    "# Explore data\n",
    "show5(train_loader)"
   ]
  },
  {
   "cell_type": "markdown",
   "metadata": {},
   "source": [
    "## Explore the dimension of the dataset"
   ]
  },
  {
   "cell_type": "code",
   "execution_count": 7,
   "metadata": {},
   "outputs": [
    {
     "name": "stdout",
     "output_type": "stream",
     "text": [
      "Shape of a sample batch: torch.Size([32, 1, 28, 28])\n"
     ]
    }
   ],
   "source": [
    "sample_batch, _ = next(iter(train_loader))\n",
    "\n",
    "# Get the shape of the sample batch\n",
    "batch_shape = sample_batch.shape\n",
    "\n",
    "print(\"Shape of a sample batch:\", batch_shape)"
   ]
  },
  {
   "cell_type": "code",
   "execution_count": 8,
   "metadata": {},
   "outputs": [
    {
     "data": {
      "text/plain": [
       "torch.Size([60000, 28, 28])"
      ]
     },
     "execution_count": 8,
     "metadata": {},
     "output_type": "execute_result"
    }
   ],
   "source": [
    "train_data.data.shape"
   ]
  },
  {
   "cell_type": "code",
   "execution_count": 9,
   "metadata": {},
   "outputs": [
    {
     "data": {
      "text/plain": [
       "torch.Size([10000, 28, 28])"
      ]
     },
     "execution_count": 9,
     "metadata": {},
     "output_type": "execute_result"
    }
   ],
   "source": [
    "test_dataset.data.shape"
   ]
  },
  {
   "cell_type": "code",
   "execution_count": 10,
   "metadata": {},
   "outputs": [
    {
     "data": {
      "text/plain": [
       "torch.Size([32, 1, 28, 28])"
      ]
     },
     "execution_count": 10,
     "metadata": {},
     "output_type": "execute_result"
    }
   ],
   "source": [
    "data_iter = iter(train_loader)\n",
    "image , label = next(data_iter)\n",
    "image.shape"
   ]
  },
  {
   "cell_type": "code",
   "execution_count": 11,
   "metadata": {},
   "outputs": [
    {
     "data": {
      "text/plain": [
       "torch.Size([32])"
      ]
     },
     "execution_count": 11,
     "metadata": {},
     "output_type": "execute_result"
    }
   ],
   "source": [
    "label.shape"
   ]
  },
  {
   "cell_type": "code",
   "execution_count": 12,
   "metadata": {},
   "outputs": [
    {
     "data": {
      "text/plain": [
       "['0 - zero',\n",
       " '1 - one',\n",
       " '2 - two',\n",
       " '3 - three',\n",
       " '4 - four',\n",
       " '5 - five',\n",
       " '6 - six',\n",
       " '7 - seven',\n",
       " '8 - eight',\n",
       " '9 - nine']"
      ]
     },
     "execution_count": 12,
     "metadata": {},
     "output_type": "execute_result"
    }
   ],
   "source": [
    "train_data.classes"
   ]
  },
  {
   "cell_type": "markdown",
   "metadata": {},
   "source": [
    "## Build your Neural Network\n",
    "Using the layers in `torch.nn` (which has been imported as `nn`) and the `torch.nn.functional` module (imported as `F`), construct a neural network based on the parameters of the dataset.\n",
    "Use any architecture you like. \n",
    "\n",
    "*Note*: If you did not flatten your tensors in your transforms or as part of your preprocessing and you are using only `Linear` layers, make sure to use the `Flatten` layer in your network!"
   ]
  },
  {
   "cell_type": "code",
   "execution_count": 13,
   "metadata": {},
   "outputs": [],
   "source": [
    "class Net(nn.Module):\n",
    "    def __init__(self):\n",
    "        super().__init__()\n",
    "        self.activation = F.relu\n",
    "        self.fc1 = nn.Linear(28*28,128)\n",
    "        self.fc2 = nn.Linear(128 , 64)\n",
    "        self.fc3 = nn.Linear(64 , 10)\n",
    "    def forward(self,x):\n",
    "        x_flatten = torch.flatten(x,1)\n",
    "        a1 = self.activation(self.fc1(x_flatten))\n",
    "        a2 = self.activation(self.fc2(a1))\n",
    "        a3 = self.fc3(a2)\n",
    "        return a3\n",
    "net = Net()"
   ]
  },
  {
   "cell_type": "markdown",
   "metadata": {},
   "source": [
    "Specify a loss function and an optimizer, and instantiate the model.\n",
    "\n",
    "If you use a less common loss function, please note why you chose that loss function in a comment."
   ]
  },
  {
   "cell_type": "code",
   "execution_count": 14,
   "metadata": {},
   "outputs": [],
   "source": [
    "criterion = nn.CrossEntropyLoss()\n",
    "optimizer = optim.Adam(net.parameters(),lr=0.001)"
   ]
  },
  {
   "cell_type": "code",
   "execution_count": 15,
   "metadata": {},
   "outputs": [],
   "source": [
    "def print_stats(epoch,avg_loss,accuracy,phase):\n",
    "    print(f'Epoch {epoch}, In {phase} phase : Accuracy is : {accuracy*100:0.2f} , Loss is {avg_loss:0.5f}')"
   ]
  },
  {
   "cell_type": "code",
   "execution_count": 16,
   "metadata": {},
   "outputs": [],
   "source": [
    "def training_network(net,epochs,train_loader,val_loader,loss_hist,optimizer,criterion):\n",
    "    device = torch.device(\"cuda\" if torch.cuda.is_available() else \"cpu\")\n",
    "    net.to(device)\n",
    "    for epoch in range(1,1+epochs):\n",
    "        for phase in ['training','validation']:\n",
    "            total_loss = 0.0\n",
    "            total_corrects = 0.0\n",
    "            if phase == 'training':\n",
    "                net.train()\n",
    "                data_loader = train_loader\n",
    "            else :\n",
    "                net.eval()\n",
    "                data_loader = val_loader\n",
    "            for idx,[inputs,labels] in enumerate(data_loader):\n",
    "                inputs,labels = inputs.to(device),labels.to(device)\n",
    "                if phase == 'training':\n",
    "                    optimizer.zero_grad()\n",
    "                outputs = net(inputs)\n",
    "                loss = criterion(outputs,labels)\n",
    "                if phase == 'training':\n",
    "                    loss.backward()\n",
    "                    optimizer.step()\n",
    "    \n",
    "                _,pred = torch.max(outputs.data,1)\n",
    "                total_corrects += (pred == labels).sum().item()\n",
    "                total_loss += loss.item()\n",
    "            if phase == 'training':\n",
    "                num_samples = train_size\n",
    "            else : \n",
    "                num_samples = val_size\n",
    "            num_batches = len(data_loader)\n",
    "        \n",
    "            avg_loss = total_loss / num_batches\n",
    "            accuracy = total_corrects / num_samples\n",
    "        \n",
    "            print_stats(epoch,avg_loss,accuracy,phase)\n",
    "            loss_hist[phase].append(avg_loss) "
   ]
  },
  {
   "cell_type": "code",
   "execution_count": 17,
   "metadata": {},
   "outputs": [
    {
     "name": "stdout",
     "output_type": "stream",
     "text": [
      "Epoch 1, In training phase : Accuracy is : 88.50 , Loss is 0.38016\n",
      "Epoch 1, In validation phase : Accuracy is : 92.84 , Loss is 0.23522\n",
      "Epoch 2, In training phase : Accuracy is : 94.36 , Loss is 0.18567\n",
      "Epoch 2, In validation phase : Accuracy is : 94.81 , Loss is 0.16591\n",
      "Epoch 3, In training phase : Accuracy is : 95.69 , Loss is 0.14203\n",
      "Epoch 3, In validation phase : Accuracy is : 96.10 , Loss is 0.12737\n",
      "Epoch 4, In training phase : Accuracy is : 96.42 , Loss is 0.11446\n",
      "Epoch 4, In validation phase : Accuracy is : 96.43 , Loss is 0.12309\n",
      "Epoch 5, In training phase : Accuracy is : 96.81 , Loss is 0.10151\n",
      "Epoch 5, In validation phase : Accuracy is : 96.80 , Loss is 0.10625\n",
      "Epoch 6, In training phase : Accuracy is : 97.14 , Loss is 0.08890\n",
      "Epoch 6, In validation phase : Accuracy is : 96.39 , Loss is 0.12254\n",
      "Epoch 7, In training phase : Accuracy is : 97.51 , Loss is 0.07645\n",
      "Epoch 7, In validation phase : Accuracy is : 96.85 , Loss is 0.10699\n",
      "Epoch 8, In training phase : Accuracy is : 97.68 , Loss is 0.07103\n",
      "Epoch 8, In validation phase : Accuracy is : 97.26 , Loss is 0.09968\n",
      "Epoch 9, In training phase : Accuracy is : 97.80 , Loss is 0.06489\n",
      "Epoch 9, In validation phase : Accuracy is : 97.25 , Loss is 0.10544\n",
      "Epoch 10, In training phase : Accuracy is : 98.05 , Loss is 0.05978\n",
      "Epoch 10, In validation phase : Accuracy is : 97.34 , Loss is 0.09725\n"
     ]
    }
   ],
   "source": [
    "epochs = 10\n",
    "loss_hist = {\n",
    "    'training':list(),\n",
    "    'validation':list()\n",
    "}\n",
    "training_network(net,epochs,train_loader,val_loader,loss_hist,optimizer,criterion)"
   ]
  },
  {
   "cell_type": "markdown",
   "metadata": {},
   "source": [
    "Plot the training loss (and validation loss/accuracy, if recorded)."
   ]
  },
  {
   "cell_type": "code",
   "execution_count": 18,
   "metadata": {},
   "outputs": [
    {
     "data": {
      "image/png": "[encoded data removed]",
      "text/plain": [
       "<Figure size 640x480 with 1 Axes>"
      ]
     },
     "metadata": {},
     "output_type": "display_data"
    }
   ],
   "source": [
    "# Plot the training and validation loss history\n",
    "plt.plot(loss_hist[\"training\"], label=\"Training Loss\")\n",
    "plt.plot(loss_hist[\"validation\"], label=\"Validation Loss\")\n",
    "plt.legend()\n",
    "plt.show()"
   ]
  },
  {
   "cell_type": "markdown",
   "metadata": {},
   "source": [
    "## Testing your model\n",
    "Using the previously created `DataLoader` for the test set, compute the percentage of correct predictions using the highest probability prediction. \n",
    "\n",
    "If your accuracy is over 90%, great work, but see if you can push a bit further! \n",
    "If your accuracy is under 90%, you'll need to make improvements.\n",
    "Go back and check your model architecture, loss function, and optimizer to make sure they're appropriate for an image classification task."
   ]
  },
  {
   "cell_type": "code",
   "execution_count": 19,
   "metadata": {},
   "outputs": [],
   "source": [
    "def testing_network(net,test_loader,criterion):\n",
    "    device = torch.device(\"cuda\" if torch.cuda.is_available() else \"cpu\")\n",
    "    net.to(device)\n",
    "    test_loss = 0.0\n",
    "    test_corrects = 0\n",
    "    \n",
    "    net.eval()\n",
    "    \n",
    "    with torch.no_grad():\n",
    "        for inputs,labels in test_loader:\n",
    "            inputs , labels = inputs.to(device), labels.to(device)\n",
    "            \n",
    "            outputs=net(inputs)\n",
    "            loss = criterion(outputs,labels)\n",
    "        \n",
    "            _,pred = torch.max(outputs.data,1)\n",
    "            test_corrects += (pred == labels).sum().item()\n",
    "            test_loss += loss.item()\n",
    "    num_samples = test_loader.dataset.data.shape[0]\n",
    "    num_batches = len(test_loader)\n",
    "    \n",
    "    avg_loss = test_loss / num_batches\n",
    "    accuracy = test_corrects / num_samples\n",
    "    \n",
    "    print(f\"The Final Test Loss is : {avg_loss:0.4f}\")\n",
    "    print(f\"Test Accuracy is : {accuracy*100:0.2f}\")"
   ]
  },
  {
   "cell_type": "code",
   "execution_count": 20,
   "metadata": {},
   "outputs": [
    {
     "name": "stdout",
     "output_type": "stream",
     "text": [
      "The Final Test Loss is : 0.0947\n",
      "Test Accuracy is : 97.18\n"
     ]
    }
   ],
   "source": [
    "testing_network(net,test_loader,criterion)"
   ]
  },
  {
   "cell_type": "markdown",
   "metadata": {},
   "source": [
    "## Improving your model\n",
    "\n",
    "Once your model is done training, try tweaking your hyperparameters and training again below to improve your accuracy on the test set!"
   ]
  },
  {
   "cell_type": "markdown",
   "metadata": {},
   "source": [
    "### First i can improve the performance by calculating the exact mean and std of this dataset :"
   ]
  },
  {
   "cell_type": "code",
   "execution_count": 21,
   "metadata": {},
   "outputs": [],
   "source": [
    "# Define a transform to convert the images to tensors\n",
    "transform2 = transforms.Compose([transforms.ToTensor()])\n",
    "\n",
    "# Load the MNIST dataset\n",
    "train_dataset2 = torchvision.datasets.MNIST(root='data',download=False,train=True,transform=transform2)\n",
    "\n",
    "# Create a DataLoader to iterate through the dataset\n",
    "train_loader2 = torch.utils.data.DataLoader(train_dataset2, batch_size=60000, shuffle=False)\n",
    "\n",
    "# Get all the images in a single batch\n",
    "data_iter = iter(train_loader2)\n",
    "images, labels = next(data_iter)\n",
    "\n",
    "# Compute the mean and std\n",
    "mean = images.mean()\n",
    "std = images.std()"
   ]
  },
  {
   "cell_type": "code",
   "execution_count": 22,
   "metadata": {},
   "outputs": [
    {
     "data": {
      "text/plain": [
       "0.13066047430038452"
      ]
     },
     "execution_count": 22,
     "metadata": {},
     "output_type": "execute_result"
    }
   ],
   "source": [
    "mean.item()"
   ]
  },
  {
   "cell_type": "code",
   "execution_count": 23,
   "metadata": {},
   "outputs": [
    {
     "data": {
      "text/plain": [
       "0.30810782313346863"
      ]
     },
     "execution_count": 23,
     "metadata": {},
     "output_type": "execute_result"
    }
   ],
   "source": [
    "std.item()"
   ]
  },
  {
   "cell_type": "code",
   "execution_count": 24,
   "metadata": {},
   "outputs": [],
   "source": [
    "# Define transforms\n",
    "transform = transforms.Compose([\n",
    "    transforms.ToTensor(),\n",
    "    transforms.Normalize(mean=(mean.item()),std=(std.item()))\n",
    "])\n",
    "# Create training and validation set and define training and validation dataloader\n",
    "train_data = torchvision.datasets.MNIST(root='data',download=True,train=True,transform=transform)\n",
    "\n",
    "train_size = int(0.8 * len(train_data))\n",
    "val_size = len(train_data) - train_size\n",
    "\n",
    "train_dataset, val_dataset = torch.utils.data.random_split(train_data, [train_size, val_size])\n",
    "train_loader = torch.utils.data.DataLoader(train_dataset,batch_size=32,shuffle=True)\n",
    "\n",
    "val_loader = torch.utils.data.DataLoader(val_dataset, batch_size=32, shuffle=False)\n",
    "\n",
    "# Create test set and define test dataloader\n",
    "test_dataset = torchvision.datasets.MNIST(root='data',download=True,train=False,transform=transform)\n",
    "test_loader = torch.utils.data.DataLoader(test_dataset,batch_size=32)"
   ]
  },
  {
   "cell_type": "markdown",
   "metadata": {},
   "source": [
    "## I can try another architecture to the net !! by adding dropout to avoid overfitting and change the layers "
   ]
  },
  {
   "cell_type": "code",
   "execution_count": 25,
   "metadata": {},
   "outputs": [],
   "source": [
    "class Net(nn.Module):\n",
    "    def __init__(self, dropout_prob=0.5):\n",
    "        super().__init__()\n",
    "        self.activation = F.relu\n",
    "        self.dropout_prob = dropout_prob\n",
    "        \n",
    "        self.fc1 = nn.Linear(28*28, 256)  \n",
    "        self.fc2 = nn.Linear(256, 128)    \n",
    "        self.fc3 = nn.Linear(128, 64)    \n",
    "        self.fc4 = nn.Linear(64, 10)\n",
    "        \n",
    "        self.dropout1 = nn.Dropout(p=dropout_prob)\n",
    "        self.dropout2 = nn.Dropout(p=dropout_prob)\n",
    "        self.dropout3 = nn.Dropout(p=dropout_prob)\n",
    "    \n",
    "    def forward(self, x):\n",
    "        x_flatten = torch.flatten(x, 1)\n",
    "        \n",
    "        a1 = self.activation(self.fc1(x_flatten))\n",
    "        a1_drop = self.dropout1(a1)\n",
    "        \n",
    "        a2 = self.activation(self.fc2(a1_drop))\n",
    "        a2_drop = self.dropout2(a2)\n",
    "        \n",
    "        a3 = self.activation(self.fc3(a2_drop))\n",
    "        a3_drop = self.dropout3(a3)\n",
    "        \n",
    "        a4 = self.fc4(a3_drop)\n",
    "        \n",
    "        return a4\n",
    "\n",
    "net = Net()"
   ]
  },
  {
   "cell_type": "markdown",
   "metadata": {},
   "source": [
    "## By using another optimizer like SGD and use momentum to avoid overfitting "
   ]
  },
  {
   "cell_type": "code",
   "execution_count": 26,
   "metadata": {},
   "outputs": [],
   "source": [
    "optimizer = optim.SGD(net.parameters(), lr=0.01, momentum=0.9)\n",
    "criterion = nn.CrossEntropyLoss()"
   ]
  },
  {
   "cell_type": "markdown",
   "metadata": {},
   "source": [
    "## Train the new net with new parameters !! "
   ]
  },
  {
   "cell_type": "code",
   "execution_count": 27,
   "metadata": {},
   "outputs": [],
   "source": [
    "epochs = 10\n",
    "loss_hist = {\n",
    "    'training':list(),\n",
    "    'validation':list()\n",
    "}"
   ]
  },
  {
   "cell_type": "code",
   "execution_count": 28,
   "metadata": {},
   "outputs": [
    {
     "name": "stdout",
     "output_type": "stream",
     "text": [
      "Epoch 1, In training phase : Accuracy is : 78.72 , Loss is 0.68897\n",
      "Epoch 1, In validation phase : Accuracy is : 93.83 , Loss is 0.22249\n",
      "Epoch 2, In training phase : Accuracy is : 90.49 , Loss is 0.35691\n",
      "Epoch 2, In validation phase : Accuracy is : 95.15 , Loss is 0.16795\n",
      "Epoch 3, In training phase : Accuracy is : 92.24 , Loss is 0.28911\n",
      "Epoch 3, In validation phase : Accuracy is : 95.87 , Loss is 0.14443\n",
      "Epoch 4, In training phase : Accuracy is : 93.20 , Loss is 0.26250\n",
      "Epoch 4, In validation phase : Accuracy is : 96.33 , Loss is 0.13600\n",
      "Epoch 5, In training phase : Accuracy is : 93.50 , Loss is 0.25110\n",
      "Epoch 5, In validation phase : Accuracy is : 96.63 , Loss is 0.12442\n",
      "Epoch 6, In training phase : Accuracy is : 94.04 , Loss is 0.22834\n",
      "Epoch 6, In validation phase : Accuracy is : 96.61 , Loss is 0.12406\n",
      "Epoch 7, In training phase : Accuracy is : 94.21 , Loss is 0.21897\n",
      "Epoch 7, In validation phase : Accuracy is : 96.83 , Loss is 0.11670\n",
      "Epoch 8, In training phase : Accuracy is : 94.60 , Loss is 0.20450\n",
      "Epoch 8, In validation phase : Accuracy is : 96.96 , Loss is 0.11740\n",
      "Epoch 9, In training phase : Accuracy is : 94.96 , Loss is 0.20057\n",
      "Epoch 9, In validation phase : Accuracy is : 97.20 , Loss is 0.10903\n",
      "Epoch 10, In training phase : Accuracy is : 94.92 , Loss is 0.19394\n",
      "Epoch 10, In validation phase : Accuracy is : 96.79 , Loss is 0.12112\n"
     ]
    }
   ],
   "source": [
    "training_network(net,epochs,train_loader,val_loader,loss_hist,optimizer,criterion)"
   ]
  },
  {
   "cell_type": "code",
   "execution_count": 29,
   "metadata": {},
   "outputs": [
    {
     "data": {
      "image/png": "[encoded data removed]",
      "text/plain": [
       "<Figure size 640x480 with 1 Axes>"
      ]
     },
     "metadata": {},
     "output_type": "display_data"
    }
   ],
   "source": [
    "# Plot the training and validation loss history\n",
    "plt.plot(loss_hist[\"training\"], label=\"Training Loss\")\n",
    "plt.plot(loss_hist[\"validation\"], label=\"Validation Loss\")\n",
    "plt.legend()\n",
    "plt.show()"
   ]
  },
  {
   "cell_type": "markdown",
   "metadata": {},
   "source": [
    "## Testing the new Model "
   ]
  },
  {
   "cell_type": "code",
   "execution_count": 30,
   "metadata": {},
   "outputs": [
    {
     "name": "stdout",
     "output_type": "stream",
     "text": [
      "The Final Test Loss is : 0.1212\n",
      "Test Accuracy is : 96.95\n"
     ]
    }
   ],
   "source": [
    "testing_network(net,test_loader,criterion)"
   ]
  },
  {
   "cell_type": "markdown",
   "metadata": {},
   "source": [
    "## Saving your model\n",
    "Using `torch.save`, save your model for future loading."
   ]
  },
  {
   "cell_type": "code",
   "execution_count": 31,
   "metadata": {},
   "outputs": [],
   "source": [
    "# Save the trained model\n",
    "torch.save(net.cpu().state_dict(), \"model.pth\")"
   ]
  },
  {
   "cell_type": "code",
   "execution_count": null,
   "metadata": {},
   "outputs": [],
   "source": []
  }
 ],
 "metadata": {
  "kernelspec": {
   "display_name": "Python 3 (ipykernel)",
   "language": "python",
   "name": "python3"
  },
  "language_info": {
   "codemirror_mode": {
    "name": "ipython",
    "version": 3
   },
   "file_extension": ".py",
   "mimetype": "text/x-python",
   "name": "python",
   "nbconvert_exporter": "python",
   "pygments_lexer": "ipython3",
   "version": "3.10.12"
  }
 },
 "nbformat": 4,
 "nbformat_minor": 4
}
